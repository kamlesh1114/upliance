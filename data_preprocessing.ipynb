{
 "cells": [
  {
   "cell_type": "code",
   "execution_count": 4,
   "id": "611a516b-eee3-44d4-a61c-5eb17d789b59",
   "metadata": {},
   "outputs": [],
   "source": []
  },
  {
   "cell_type": "code",
   "execution_count": 3,
   "id": "83a08698-cac6-4f98-be65-25981e2e26f9",
   "metadata": {},
   "outputs": [],
   "source": [
    "import pandas as pd\n",
    "from pymongo import MongoClient\n",
    "\n",
    "# Read the CSV file\n",
    "csv_file_path = \"yellow_tripdata_2016-01.csv\"\n",
    "df = pd.read_csv(csv_file_path)\n",
    "\n",
    "# Preprocess the data \n",
    "df['tpep_pickup_datetime'] = pd.to_datetime(df['tpep_pickup_datetime'])\n",
    "df['tpep_dropoff_datetime'] = pd.to_datetime(df['tpep_dropoff_datetime'])\n",
    "\n",
    "# Filter columns\n",
    "columns_to_keep = ['tpep_pickup_datetime', 'tpep_dropoff_datetime', 'dropoff_longitude', 'dropoff_latitude']\n",
    "df = df[columns_to_keep]\n",
    "\n",
    "# Calculate trip durations\n",
    "df['trip_duration'] = (df['tpep_dropoff_datetime'] - df['tpep_pickup_datetime']).dt.total_seconds()\n",
    "\n",
    "# Filter trips ending near Crate and Barrel\n",
    "crate_and_barrel_latitude = 40.7258\n",
    "crate_and_barrel_longitude = -74.0047\n",
    "threshold = 0.001\n",
    "filtered_df = df[\n",
    "    (df['dropoff_latitude'].between(crate_and_barrel_latitude - threshold, crate_and_barrel_latitude + threshold)) &\n",
    "    (df['dropoff_longitude'].between(crate_and_barrel_longitude - threshold, crate_and_barrel_longitude + threshold))\n",
    "]\n",
    "\n",
    "# Calculate short and long trips\n",
    "short_trips = filtered_df[filtered_df['trip_duration'] < 600]\n",
    "long_trips = filtered_df[filtered_df['trip_duration'] > 3660]\n",
    "\n",
    "# Calculate trips by hour of the day\n",
    "filtered_df['end_hour'] = filtered_df['tpep_dropoff_datetime'].dt.hour\n",
    "trips_by_hour = filtered_df['end_hour'].value_counts().sort_index().reset_index()\n",
    "trips_by_hour.columns = ['hour', 'number_of_trips']\n",
    "\n",
    "\n",
    "# # Connect to MongoDB\n",
    "# client = MongoClient('mongodb+srv://hdghgdhgdhhhd.mongodb.net/')  \n",
    "# db = client['upliance_data']\n",
    "\n",
    "# # Insert Preprocessed data into MongoDB or Export Locally\n",
    "# db['filtered_trips'].insert_many(filtered_df.to_dict('records'))\n",
    "# db['short_trips'].insert_many(short_trips.to_dict('records'))\n",
    "# db['long_trips'].insert_many(long_trips.to_dict('records'))\n",
    "# db['trips_by_hour'].insert_many(trips_by_hour.to_dict('records'))\n",
    "\n",
    "\n",
    "\n",
    "# Export Preprocessed data Locally\n",
    "filtered_df.to_csv(\"filtered_df.csv\",index=False)\n",
    "short_trips.to_csv(\"short_trips.csv\",index=False)\n",
    "long_trips.to_csv(\"long_trips.csv\",index=False)\n",
    "trips_by_hour.to_csv(\"trips_by_hour.csv\",index=False)\n",
    "\n",
    "\n"
   ]
  },
  {
   "cell_type": "code",
   "execution_count": null,
   "id": "216a29d8-7784-461b-8dfe-91a1de5ee256",
   "metadata": {},
   "outputs": [],
   "source": []
  },
  {
   "cell_type": "code",
   "execution_count": null,
   "id": "f44c644d-8221-447f-9c51-94a3e35305f2",
   "metadata": {},
   "outputs": [],
   "source": []
  },
  {
   "cell_type": "code",
   "execution_count": null,
   "id": "d1685e28-cba5-47a7-ba14-c7be083b9996",
   "metadata": {},
   "outputs": [],
   "source": []
  },
  {
   "cell_type": "code",
   "execution_count": null,
   "id": "179c47ac-474b-4484-bdc0-2bfd80f8817d",
   "metadata": {},
   "outputs": [],
   "source": []
  },
  {
   "cell_type": "code",
   "execution_count": null,
   "id": "8d2ca910-6909-4d57-994e-6540a1a20fcc",
   "metadata": {},
   "outputs": [],
   "source": []
  },
  {
   "cell_type": "code",
   "execution_count": null,
   "id": "ed7f1dd5-e40a-49f8-b75b-5833df9834a2",
   "metadata": {},
   "outputs": [],
   "source": []
  },
  {
   "cell_type": "code",
   "execution_count": null,
   "id": "ee8728a5-f7aa-4b54-a722-65076557540b",
   "metadata": {},
   "outputs": [],
   "source": []
  },
  {
   "cell_type": "code",
   "execution_count": null,
   "id": "3cf6e68e-fac9-463b-b165-8167e2110e69",
   "metadata": {},
   "outputs": [],
   "source": []
  },
  {
   "cell_type": "code",
   "execution_count": null,
   "id": "18518442-fd30-465e-a5c9-3130bf0ffbe6",
   "metadata": {},
   "outputs": [],
   "source": []
  },
  {
   "cell_type": "code",
   "execution_count": null,
   "id": "ca5094bd-3ce3-44b0-8901-ce3791f4db1b",
   "metadata": {},
   "outputs": [],
   "source": []
  },
  {
   "cell_type": "code",
   "execution_count": null,
   "id": "15b6092e-1dbf-47a6-813d-8f6834491259",
   "metadata": {},
   "outputs": [],
   "source": []
  },
  {
   "cell_type": "code",
   "execution_count": null,
   "id": "50c2d507-b388-461f-8d04-fabf60a4d0fa",
   "metadata": {},
   "outputs": [],
   "source": []
  }
 ],
 "metadata": {
  "kernelspec": {
   "display_name": "Python 3 (ipykernel)",
   "language": "python",
   "name": "python3"
  },
  "language_info": {
   "codemirror_mode": {
    "name": "ipython",
    "version": 3
   },
   "file_extension": ".py",
   "mimetype": "text/x-python",
   "name": "python",
   "nbconvert_exporter": "python",
   "pygments_lexer": "ipython3",
   "version": "3.11.0"
  }
 },
 "nbformat": 4,
 "nbformat_minor": 5
}
